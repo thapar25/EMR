{
 "cells": [
  {
   "cell_type": "code",
   "execution_count": null,
   "id": "872b9534",
   "metadata": {},
   "outputs": [],
   "source": [
    "from moviepy import VideoFileClip\n",
    "video = VideoFileClip(\"../../assets/ehr-extraction-1750060650680.mp4\")\n",
    "video.duration"
   ]
  },
  {
   "cell_type": "code",
   "execution_count": null,
   "id": "7db0ef27",
   "metadata": {},
   "outputs": [],
   "source": [
    "sped_up = video.time_transform(lambda t: t * 1.5)\n",
    "sped_up"
   ]
  },
  {
   "cell_type": "code",
   "execution_count": null,
   "id": "518aae08",
   "metadata": {},
   "outputs": [],
   "source": [
    "sped_up.with_duration(video.duration/1.5).write_gif(\"../../assets/ehr-extraction-1750060650680-sped-up.gif\",fps=30)"
   ]
  },
  {
   "cell_type": "code",
   "execution_count": 8,
   "id": "e84b765b",
   "metadata": {},
   "outputs": [],
   "source": [
    "import ffmpeg\n",
    "\n",
    "input_path = \"../../assets/ehr-extraction-1750060650680.mp4\"\n",
    "output_path = \"../../assets/ehr-extraction-1750060650680-compressed.mp4\"\n",
    "\n",
    "video = ffmpeg.input(input_path)"
   ]
  },
  {
   "cell_type": "code",
   "execution_count": 11,
   "id": "d4c1175b",
   "metadata": {},
   "outputs": [
    {
     "name": "stderr",
     "output_type": "stream",
     "text": [
      "ffmpeg version 7.1.1 Copyright (c) 2000-2025 the FFmpeg developers\n",
      "  built with Apple clang version 17.0.0 (clang-1700.0.13.3)\n",
      "  configuration: --prefix=/opt/homebrew/Cellar/ffmpeg/7.1.1_3 --enable-shared --enable-pthreads --enable-version3 --cc=clang --host-cflags= --host-ldflags='-Wl,-ld_classic' --enable-ffplay --enable-gnutls --enable-gpl --enable-libaom --enable-libaribb24 --enable-libbluray --enable-libdav1d --enable-libharfbuzz --enable-libjxl --enable-libmp3lame --enable-libopus --enable-librav1e --enable-librist --enable-librubberband --enable-libsnappy --enable-libsrt --enable-libssh --enable-libsvtav1 --enable-libtesseract --enable-libtheora --enable-libvidstab --enable-libvmaf --enable-libvorbis --enable-libvpx --enable-libwebp --enable-libx264 --enable-libx265 --enable-libxml2 --enable-libxvid --enable-lzma --enable-libfontconfig --enable-libfreetype --enable-frei0r --enable-libass --enable-libopencore-amrnb --enable-libopencore-amrwb --enable-libopenjpeg --enable-libspeex --enable-libsoxr --enable-libzmq --enable-libzimg --disable-libjack --disable-indev=jack --enable-videotoolbox --enable-audiotoolbox --enable-neon\n",
      "  libavutil      59. 39.100 / 59. 39.100\n",
      "  libavcodec     61. 19.101 / 61. 19.101\n",
      "  libavformat    61.  7.100 / 61.  7.100\n",
      "  libavdevice    61.  3.100 / 61.  3.100\n",
      "  libavfilter    10.  4.100 / 10.  4.100\n",
      "  libswscale      8.  3.100 /  8.  3.100\n",
      "  libswresample   5.  3.100 /  5.  3.100\n",
      "  libpostproc    58.  3.100 / 58.  3.100\n",
      "Input #0, mov,mp4,m4a,3gp,3g2,mj2, from '../../assets/ehr-extraction-1750060650680.mp4':\n",
      "  Metadata:\n",
      "    major_brand     : isom\n",
      "    minor_version   : 512\n",
      "    compatible_brands: isomavc1mp41\n",
      "    creation_time   : 2025-06-16T07:56:29.000000Z\n",
      "  Duration: 00:00:50.45, start: 0.000000, bitrate: 10259 kb/s\n",
      "  Stream #0:0[0x1](und): Video: h264 (Main) (avc1 / 0x31637661), yuv420p(tv, bt709, progressive), 1920x1080, 10257 kb/s, 60 fps, 60 tbr, 60 tbn (default)\n",
      "      Metadata:\n",
      "        creation_time   : 2025-06-16T07:56:29.000000Z\n",
      "        handler_name    : mp4-muxer-hdlr\n",
      "        vendor_id       : [0][0][0][0]\n",
      "Stream mapping:\n",
      "  Stream #0:0 -> #0:0 (h264 (native) -> h264 (libx264))\n",
      "Press [q] to stop, [?] for help\n",
      "[libx264 @ 0x13d7054e0] using cpu capabilities: ARMv8 NEON\n",
      "[libx264 @ 0x13d7054e0] profile High, level 5.1, 4:2:0, 8-bit\n",
      "[libx264 @ 0x13d7054e0] 264 - core 164 r3108 31e19f9 - H.264/MPEG-4 AVC codec - Copyleft 2003-2023 - http://www.videolan.org/x264.html - options: cabac=1 ref=16 deblock=1:0:0 analyse=0x3:0x133 me=umh subme=10 psy=1 psy_rd=1.00:0.00 mixed_ref=1 me_range=24 chroma_me=1 trellis=2 8x8dct=1 cqm=0 deadzone=21,11 fast_pskip=1 chroma_qp_offset=-2 threads=18 lookahead_threads=3 sliced_threads=0 nr=0 decimate=1 interlaced=0 bluray_compat=0 constrained_intra=0 bframes=8 b_pyramid=2 b_adapt=2 b_bias=0 direct=3 weightb=1 open_gop=0 weightp=2 keyint=250 keyint_min=25 scenecut=40 intra_refresh=0 rc_lookahead=60 rc=crf mbtree=1 crf=28.0 qcomp=0.60 qpmin=0 qpmax=69 qpstep=4 ip_ratio=1.40 aq=1:1.00\n",
      "Output #0, mp4, to '../../assets/ehr-extraction-1750060650680-compressed.mp4':\n",
      "  Metadata:\n",
      "    major_brand     : isom\n",
      "    minor_version   : 512\n",
      "    compatible_brands: isomavc1mp41\n",
      "    encoder         : Lavf61.7.100\n",
      "  Stream #0:0(und): Video: h264 (avc1 / 0x31637661), yuv420p(tv, bt709, progressive), 1920x1080, q=2-31, 60 fps, 15360 tbn (default)\n",
      "      Metadata:\n",
      "        creation_time   : 2025-06-16T07:56:29.000000Z\n",
      "        handler_name    : mp4-muxer-hdlr\n",
      "        vendor_id       : [0][0][0][0]\n",
      "        encoder         : Lavc61.19.101 libx264\n",
      "      Side data:\n",
      "        cpb: bitrate max/min/avg: 0/0/0 buffer size: 0 vbv_delay: N/A\n",
      "[out#0/mp4 @ 0x13d704760] video:5083KiB audio:0KiB subtitle:0KiB other streams:0KiB global headers:0KiB muxing overhead: 0.554609%\n",
      "frame= 3028 fps= 98 q=-1.0 Lsize=    5111KiB time=00:00:50.43 bitrate= 830.2kbits/s speed=1.63x    \n",
      "[libx264 @ 0x13d7054e0] frame I:14    Avg QP:23.93  size: 34764\n",
      "[libx264 @ 0x13d7054e0] frame P:752   Avg QP:27.01  size:  4243\n",
      "[libx264 @ 0x13d7054e0] frame B:2262  Avg QP:27.19  size:   675\n",
      "[libx264 @ 0x13d7054e0] consecutive B-frames:  6.9%  6.9%  7.2% 14.1%  9.1% 10.7%  6.9% 11.4% 26.8%\n",
      "[libx264 @ 0x13d7054e0] mb I  I16..4: 26.2% 63.0% 10.8%\n",
      "[libx264 @ 0x13d7054e0] mb P  I16..4:  3.5%  5.3%  0.3%  P16..4:  6.2%  1.4%  1.3%  0.1%  0.0%    skip:81.9%\n",
      "[libx264 @ 0x13d7054e0] mb B  I16..4:  0.1%  0.1%  0.0%  B16..8:  6.9%  0.3%  0.0%  direct: 0.0%  skip:92.5%  L0:53.3% L1:45.8% BI: 0.9%\n",
      "[libx264 @ 0x13d7054e0] 8x8 transform intra:58.1% inter:32.6%\n",
      "[libx264 @ 0x13d7054e0] direct mvs  spatial:99.6% temporal:0.4%\n",
      "[libx264 @ 0x13d7054e0] coded y,uvDC,uvAC intra: 3.9% 3.7% 1.2% inter: 0.3% 0.1% 0.0%\n",
      "[libx264 @ 0x13d7054e0] i16 v,h,dc,p: 25% 69%  2%  4%\n",
      "[libx264 @ 0x13d7054e0] i8 v,h,dc,ddl,ddr,vr,hd,vl,hu: 15% 15% 69%  0%  0%  0%  0%  0%  1%\n",
      "[libx264 @ 0x13d7054e0] i4 v,h,dc,ddl,ddr,vr,hd,vl,hu: 28% 19% 27%  2%  4%  4%  4%  3%  8%\n",
      "[libx264 @ 0x13d7054e0] i8c dc,h,v,p: 75% 21%  3%  1%\n",
      "[libx264 @ 0x13d7054e0] Weighted P-Frames: Y:6.0% UV:0.9%\n",
      "[libx264 @ 0x13d7054e0] ref P L0: 61.8%  2.7% 13.2%  4.7%  3.2%  2.8%  2.3%  1.2%  1.1%  1.1%  1.3%  0.8%  0.9%  1.0%  0.9%  0.8%\n",
      "[libx264 @ 0x13d7054e0] ref B L0: 65.5% 14.0%  6.3%  3.2%  2.3%  2.0%  1.7%  1.0%  0.9%  0.6%  0.6%  0.6%  0.5%  0.5%  0.3%\n",
      "[libx264 @ 0x13d7054e0] ref B L1: 95.1%  4.9%\n",
      "[libx264 @ 0x13d7054e0] kb/s:824.92\n"
     ]
    },
    {
     "data": {
      "text/plain": [
       "(None, None)"
      ]
     },
     "execution_count": 11,
     "metadata": {},
     "output_type": "execute_result"
    }
   ],
   "source": [
    "video.output(\n",
    "    output_path,\n",
    "    vcodec='libx264',\n",
    "    crf=28,  # Constant Rate Factor for quality\n",
    "    preset='veryslow',  # Compression speed/quality trade-off\n",
    ").run(overwrite_output=True)"
   ]
  }
 ],
 "metadata": {
  "kernelspec": {
   "display_name": ".venv",
   "language": "python",
   "name": "python3"
  },
  "language_info": {
   "codemirror_mode": {
    "name": "ipython",
    "version": 3
   },
   "file_extension": ".py",
   "mimetype": "text/x-python",
   "name": "python",
   "nbconvert_exporter": "python",
   "pygments_lexer": "ipython3",
   "version": "3.12.10"
  }
 },
 "nbformat": 4,
 "nbformat_minor": 5
}
