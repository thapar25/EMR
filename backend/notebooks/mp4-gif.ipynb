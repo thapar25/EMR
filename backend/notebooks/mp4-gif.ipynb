{
 "cells": [
  {
   "cell_type": "code",
   "execution_count": null,
   "id": "872b9534",
   "metadata": {},
   "outputs": [],
   "source": [
    "from moviepy import VideoFileClip\n",
    "\n",
    "video = VideoFileClip(\"../../assets/ehr-extraction-1750060650680.mp4\")\n",
    "video.duration"
   ]
  },
  {
   "cell_type": "code",
   "execution_count": null,
   "id": "7db0ef27",
   "metadata": {},
   "outputs": [],
   "source": [
    "sped_up = video.time_transform(lambda t: t * 1.5)\n",
    "sped_up"
   ]
  },
  {
   "cell_type": "code",
   "execution_count": null,
   "id": "518aae08",
   "metadata": {},
   "outputs": [],
   "source": [
    "sped_up.with_duration(video.duration / 1.5).write_gif(\n",
    "    \"../../assets/ehr-extraction-1750060650680-sped-up.gif\", fps=30\n",
    ")"
   ]
  },
  {
   "cell_type": "code",
   "execution_count": null,
   "id": "e84b765b",
   "metadata": {},
   "outputs": [],
   "source": [
    "import ffmpeg\n",
    "\n",
    "input_path = \"../../assets/ehr-extraction-1750060650680.mp4\"\n",
    "output_path = \"../../assets/ehr-extraction-1750060650680-compressed.mp4\"\n",
    "\n",
    "video = ffmpeg.input(input_path)"
   ]
  },
  {
   "cell_type": "code",
   "execution_count": null,
   "id": "d4c1175b",
   "metadata": {},
   "outputs": [],
   "source": [
    "video.output(\n",
    "    output_path,\n",
    "    vcodec=\"libx264\",\n",
    "    crf=28,  # Constant Rate Factor for quality\n",
    "    preset=\"veryslow\",  # Compression speed/quality trade-off\n",
    ").run(overwrite_output=True)"
   ]
  }
 ],
 "metadata": {
  "kernelspec": {
   "display_name": ".venv",
   "language": "python",
   "name": "python3"
  },
  "language_info": {
   "codemirror_mode": {
    "name": "ipython",
    "version": 3
   },
   "file_extension": ".py",
   "mimetype": "text/x-python",
   "name": "python",
   "nbconvert_exporter": "python",
   "pygments_lexer": "ipython3",
   "version": "3.12.10"
  }
 },
 "nbformat": 4,
 "nbformat_minor": 5
}
