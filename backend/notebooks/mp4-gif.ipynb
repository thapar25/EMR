{
 "cells": [
  {
   "cell_type": "code",
   "execution_count": 2,
   "id": "872b9534",
   "metadata": {},
   "outputs": [
    {
     "data": {
      "text/plain": [
       "50.45"
      ]
     },
     "execution_count": 2,
     "metadata": {},
     "output_type": "execute_result"
    }
   ],
   "source": [
    "from moviepy import VideoFileClip\n",
    "video = VideoFileClip(\"../../assets/ehr-extraction-1750060650680.mp4\")\n",
    "video.duration"
   ]
  },
  {
   "cell_type": "code",
   "execution_count": 5,
   "id": "7db0ef27",
   "metadata": {},
   "outputs": [
    {
     "data": {
      "text/plain": [
       "<moviepy.video.io.VideoFileClip.VideoFileClip at 0x10e522ea0>"
      ]
     },
     "execution_count": 5,
     "metadata": {},
     "output_type": "execute_result"
    }
   ],
   "source": [
    "sped_up = video.time_transform(lambda t: t * 1.5)\n",
    "sped_up"
   ]
  },
  {
   "cell_type": "code",
   "execution_count": 6,
   "id": "518aae08",
   "metadata": {},
   "outputs": [
    {
     "name": "stdout",
     "output_type": "stream",
     "text": [
      "MoviePy - Building file ../../assets/ehr-extraction-1750060650680-sped-up.gif with imageio.\n"
     ]
    },
    {
     "name": "stderr",
     "output_type": "stream",
     "text": [
      "                                                                           \r"
     ]
    }
   ],
   "source": [
    "sped_up.with_duration(video.duration/1.5).write_gif(\"../../assets/ehr-extraction-1750060650680-sped-up.gif\",fps=30)"
   ]
  }
 ],
 "metadata": {
  "kernelspec": {
   "display_name": ".venv",
   "language": "python",
   "name": "python3"
  },
  "language_info": {
   "codemirror_mode": {
    "name": "ipython",
    "version": 3
   },
   "file_extension": ".py",
   "mimetype": "text/x-python",
   "name": "python",
   "nbconvert_exporter": "python",
   "pygments_lexer": "ipython3",
   "version": "3.12.10"
  }
 },
 "nbformat": 4,
 "nbformat_minor": 5
}
